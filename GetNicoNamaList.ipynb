{
  "nbformat": 4,
  "nbformat_minor": 0,
  "metadata": {
    "colab": {
      "provenance": [],
      "authorship_tag": "ABX9TyMSCrpFr2z8a5ADU7pzcYdd",
      "include_colab_link": true
    },
    "kernelspec": {
      "name": "python3",
      "display_name": "Python 3"
    },
    "language_info": {
      "name": "python"
    }
  },
  "cells": [
    {
      "cell_type": "markdown",
      "metadata": {
        "id": "view-in-github",
        "colab_type": "text"
      },
      "source": [
        "<a href=\"https://colab.research.google.com/github/Rautie/GetNicoNamaList/blob/main/GetNicoNamaList.ipynb\" target=\"_parent\"><img src=\"https://colab.research.google.com/assets/colab-badge.svg\" alt=\"Open In Colab\"/></a>"
      ]
    },
    {
      "cell_type": "markdown",
      "source": [
        "### ニコ生一覧を取得したいコミュニティのID(co○○○○○○)を' 'の中に入力<br>\n",
        "(半角英数字のみ、スペース等があるとエラーが出ます。たぶん)"
      ],
      "metadata": {
        "id": "Hh3xpsHwJvpS"
      }
    },
    {
      "cell_type": "code",
      "source": [
        "NicoComID = ''"
      ],
      "metadata": {
        "id": "4CI66mA2JL8U"
      },
      "execution_count": null,
      "outputs": []
    },
    {
      "cell_type": "markdown",
      "source": [
        "### 最大ページ数を「=」の後ろに入力\n",
        "(半角数字のみ、スペースなどがあるとエラーがでます。たぶん)"
      ],
      "metadata": {
        "id": "eplthdhjLUua"
      }
    },
    {
      "cell_type": "code",
      "source": [
        "NicoComMaxPage = 1"
      ],
      "metadata": {
        "id": "2L9fj2bJLexa"
      },
      "execution_count": null,
      "outputs": []
    },
    {
      "cell_type": "markdown",
      "source": [
        "## 各自のGoogleドライブをマウントします\n",
        "なんか色々出ますがOKを押して下さい。変なことはしてないので･･･"
      ],
      "metadata": {
        "id": "IuZimNBqL4Nm"
      }
    },
    {
      "cell_type": "code",
      "source": [
        "from google.colab import drive\n",
        "drive.mount('/content/drive')"
      ],
      "metadata": {
        "colab": {
          "base_uri": "https://localhost:8080/"
        },
        "id": "kjRmVaykI-bs",
        "outputId": "0c56cb27-93f5-4bfe-bf33-f02febdc4f26"
      },
      "execution_count": null,
      "outputs": [
        {
          "output_type": "stream",
          "name": "stdout",
          "text": [
            "Mounted at /content/drive\n"
          ]
        }
      ]
    },
    {
      "cell_type": "markdown",
      "source": [
        "### メイン処理\n",
        "初期の必要ライブラリのインストールに結構時間かかるかも･･･"
      ],
      "metadata": {
        "id": "_RxPNHsLMK4c"
      }
    },
    {
      "cell_type": "code",
      "execution_count": null,
      "metadata": {
        "id": "PwkdxGwOGJuu"
      },
      "outputs": [],
      "source": [
        "!apt-get update\n",
        "!apt install chromium-chromedriver\n",
        "!cp /usr/lib/chromium-browser/chromedriver /usr/bin\n",
        "!pip install selenium\n",
        "\n",
        "from selenium import webdriver\n",
        "from selenium.webdriver.chrome.options import Options\n",
        "from selenium.webdriver.common.by import By\n",
        "import csv\n",
        "\n",
        "# ブラウザのオプションを格納\n",
        "options = Options()\n",
        "\n",
        "# Headlessモードを有効\n",
        "options.add_argument('--headless')\n",
        "\n",
        "# サンドボックスモードを解除\n",
        "options.add_argument('--no-sandbox')\n",
        "\n",
        "# ブラウザを起動する\n",
        "driver = webdriver.Chrome(chrome_options=options)\n",
        "\n",
        "# 表示されてから5秒待つ\n",
        "driver.implicitly_wait(5)\n",
        "\n",
        "# 初期配列を作成\n",
        "OutputList =[['日時','配信名','URL']]\n",
        "\n",
        "# ループ\n",
        "for i in range(int(NicoComMaxPage)):\n",
        "    # URLを指定\n",
        "    SiteURL = 'https://com.nicovideo.jp/live/' + NicoComID + '?side_bar=1&page=' + str(int(i) + 1)\n",
        "    print(SiteURL)\n",
        "\n",
        "    # 空の配列を作成\n",
        "    # TempLiveDatas = []\n",
        "    LiveDates = []\n",
        "    LiveTitles = []\n",
        "    LiveURLs = []\n",
        "\n",
        "    # ブラウザでアクセスする\n",
        "    driver.get(SiteURL)\n",
        "\n",
        "    # Class名が特定のやつを抽出\n",
        "    TempLiveDates = driver.find_elements(By.CLASS_NAME,'liveDate')\n",
        "    TempLiveTitles = driver.find_elements(By.CLASS_NAME,'liveTitle')\n",
        "\n",
        "    # 各データをそれぞれの配列に追加\n",
        "    for LiveDate in TempLiveDates:\n",
        "        LiveDates.append(LiveDate.text)\n",
        "\n",
        "    for LiveTitle in TempLiveTitles:\n",
        "        LiveTitles.append(LiveTitle.text)\n",
        "        LiveURL = LiveTitle.get_attribute('href')\n",
        "        LiveURLs.append(LiveURL)\n",
        "\n",
        "    # 一つの配列にまとめる\n",
        "    for index, Temp in enumerate(LiveDates):\n",
        "        TempStr =[LiveDates[index], LiveTitles[index], LiveURLs[index]]\n",
        "        OutputList.append(TempStr)\n",
        "\n",
        "# GoogleドライブのMyドライブ直下にresult.csvファイルとして上書き保存\n",
        "with open('/content/drive/MyDrive/result.csv', 'w') as f:\n",
        "    writer = csv.writer(f)\n",
        "    writer.writerows(OutputList)"
      ]
    }
  ]
}
